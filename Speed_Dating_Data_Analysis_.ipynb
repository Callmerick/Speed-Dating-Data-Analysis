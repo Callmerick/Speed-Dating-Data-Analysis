{
  "nbformat": 4,
  "nbformat_minor": 0,
  "metadata": {
    "colab": {
      "name": "Speed Dating Data Analysis .ipynb",
      "provenance": [],
      "collapsed_sections": [
        "maUPZabrLuhF"
      ],
      "toc_visible": true
    },
    "kernelspec": {
      "name": "python3",
      "display_name": "Python 3"
    }
  },
  "cells": [
    {
      "cell_type": "markdown",
      "metadata": {
        "id": "i3GsXaJd0hVx"
      },
      "source": [
        "### Exploring Speed Dating Data\n",
        "Created by Ricardo Lu\n",
        "\n",
        "DASC Capstone project\n",
        "\n",
        "Apr 19 2020\n",
        "\n",
        "\n",
        "\n",
        "## About the data:\n",
        "\n",
        "Data was gathered from 552 participants (only 452 are in the controlled group the data that I can use) ating events from 2002-2004.\n",
        "During the events, the attendees would have a four minute \"first date\" with every other participant of the opposite sex.\n",
        "At the end of their four minutes, participants were asked if they would like to see their date again. \n",
        "\n",
        "Columns that I can use:\n",
        "\n",
        "1.Personal ID\n",
        "2.Race\n",
        "3.Same race rate\n",
        "4.Gender\n",
        "5.Match rate\n"
      ]
    },
    {
      "cell_type": "markdown",
      "metadata": {
        "id": "0Cs3TGaV7OKI"
      },
      "source": [
        "## Hypothesis and questions\n",
        "I have taken Race and Racism and Intersectionality class and I am going to take sociology of sexuality class next semester. I am interested about the result how intersected identities effects their result whether to get the second date.\n",
        "\n",
        "From the previous reading and knowledge in Sociology, I have the hypothesis that Asian man and Black women would have identity conflicts. In a speed dating setting with 4 minutes of interaction, does match rate of Asian man, black men & women significantly different from that of white men? If yes, how does the difference look like?\n"
      ]
    },
    {
      "cell_type": "markdown",
      "metadata": {
        "id": "AF-peG167Vpn"
      },
      "source": [
        "## 1. Import and Install Packages"
      ]
    },
    {
      "cell_type": "code",
      "metadata": {
        "id": "AtNbH3gXic1C",
        "colab": {
          "base_uri": "https://localhost:8080/",
          "height": 122
        },
        "outputId": "642551cd-2864-40d4-9e62-4062e2511aaf"
      },
      "source": [
        "# import google drive\n",
        "from google.colab import drive\n",
        "drive.mount('/content/drive')"
      ],
      "execution_count": null,
      "outputs": [
        {
          "output_type": "stream",
          "text": [
            "Go to this URL in a browser: https://accounts.google.com/o/oauth2/auth?client_id=947318989803-6bn6qk8qdgf4n4g3pfee6491hc0brc4i.apps.googleusercontent.com&redirect_uri=urn%3aietf%3awg%3aoauth%3a2.0%3aoob&response_type=code&scope=email%20https%3a%2f%2fwww.googleapis.com%2fauth%2fdocs.test%20https%3a%2f%2fwww.googleapis.com%2fauth%2fdrive%20https%3a%2f%2fwww.googleapis.com%2fauth%2fdrive.photos.readonly%20https%3a%2f%2fwww.googleapis.com%2fauth%2fpeopleapi.readonly\n",
            "\n",
            "Enter your authorization code:\n",
            "··········\n",
            "Mounted at /content/drive\n"
          ],
          "name": "stdout"
        }
      ]
    },
    {
      "cell_type": "code",
      "metadata": {
        "id": "kAp6L91X7PIp"
      },
      "source": [
        "# import Python packages\n",
        "import pandas as pd #data handling library (dataframes)\n",
        "import seaborn as sns #visualization library\n",
        "import matplotlib #visualization library\n",
        "import matplotlib.pyplot as plt #visualization library\n",
        "\n",
        "# linear regression packages\n",
        "import numpy as np\n",
        "from sklearn.linear_model import LinearRegression\n",
        "from sklearn.model_selection import train_test_split\n",
        "from sklearn.datasets import load_boston\n",
        "from sklearn.metrics import mean_squared_error, r2_score\n",
        "\n",
        "#more visualization packages using Plotly\n",
        "import plotly.graph_objs as go\n",
        "import plotly.express as px\n",
        "from plotly.offline import download_plotlyjs, init_notebook_mode, plot, iplot\n",
        "\n",
        "#this code will format the output of float variables\n",
        "pd.options.display.float_format = '{:,.3f}'.format\n"
      ],
      "execution_count": null,
      "outputs": []
    },
    {
      "cell_type": "code",
      "metadata": {
        "id": "8-WytI6L1qVq"
      },
      "source": [
        "%matplotlib inline\n",
        "import pandas as pd\n",
        "pd.options.display.max_rows = 1000 #handy for showing truncated results\n",
        "import matplotlib.pyplot as plt\n",
        "import numpy as np\n",
        "import seaborn as sns\n",
        "\n",
        "!pip install researchpy\n",
        "import researchpy as rp\n",
        "from scipy import stats"
      ],
      "execution_count": null,
      "outputs": []
    },
    {
      "cell_type": "markdown",
      "metadata": {
        "id": "3gsBdo-C7x9y"
      },
      "source": [
        "## Import Data & Data Cleaning"
      ]
    },
    {
      "cell_type": "code",
      "metadata": {
        "id": "GqHqPKqZ7ybE"
      },
      "source": [
        "#import Speed Dating Data\n",
        "Dating = pd.read_csv('/content/drive/My Drive/Data Science Project/Speed Dating Data.csv',encoding=\"latin1\")"
      ],
      "execution_count": null,
      "outputs": []
    },
    {
      "cell_type": "code",
      "metadata": {
        "id": "TI-JeKZ8IkJm",
        "colab": {
          "base_uri": "https://localhost:8080/",
          "height": 102
        },
        "outputId": "41c43a10-f480-498b-f24b-c45c0e103a5b"
      },
      "source": [
        "#group by each person's individual IDs, take the means of the perceptions\n",
        "Dating1=Dating.groupby(\"iid\").mean().reset_index()\n",
        "Dating1.info()"
      ],
      "execution_count": null,
      "outputs": [
        {
          "output_type": "stream",
          "text": [
            "<class 'pandas.core.frame.DataFrame'>\n",
            "RangeIndex: 551 entries, 0 to 550\n",
            "Columns: 187 entries, iid to amb5_3\n",
            "dtypes: float64(186), int64(1)\n",
            "memory usage: 805.1 KB\n"
          ],
          "name": "stdout"
        }
      ]
    },
    {
      "cell_type": "code",
      "metadata": {
        "id": "8B9jqZFr3NG9",
        "colab": {
          "base_uri": "https://localhost:8080/",
          "height": 102
        },
        "outputId": "4dd50bd9-d739-4c53-d21d-6cb854bcc237"
      },
      "source": [
        "#Select only first 17 waves\n",
        "#17-21 is not controlled\n",
        "Dating2=Dating1[Dating1[\"wave\"]<18]\n",
        "Dating2.info()"
      ],
      "execution_count": null,
      "outputs": [
        {
          "output_type": "stream",
          "text": [
            "<class 'pandas.core.frame.DataFrame'>\n",
            "Int64Index: 452 entries, 0 to 451\n",
            "Columns: 187 entries, iid to amb5_3\n",
            "dtypes: float64(186), int64(1)\n",
            "memory usage: 663.9 KB\n"
          ],
          "name": "stdout"
        }
      ]
    },
    {
      "cell_type": "code",
      "metadata": {
        "id": "Cq0MiRDw4WTk",
        "colab": {
          "base_uri": "https://localhost:8080/",
          "height": 421
        },
        "outputId": "676aea76-e637-48c1-c0aa-8ef21fc97c5e"
      },
      "source": [
        "Dating_clean=Dating2[[\"iid\",\"wave\",\"gender\",\"race\",\"match\",\"samerace\",\"age\"]].dropna()\n",
        "Dating_clean[[\"race\"]].astype(dtype=int)\n",
        "Dating_clean.head(12)"
      ],
      "execution_count": null,
      "outputs": [
        {
          "output_type": "execute_result",
          "data": {
            "text/html": [
              "<div>\n",
              "<style scoped>\n",
              "    .dataframe tbody tr th:only-of-type {\n",
              "        vertical-align: middle;\n",
              "    }\n",
              "\n",
              "    .dataframe tbody tr th {\n",
              "        vertical-align: top;\n",
              "    }\n",
              "\n",
              "    .dataframe thead th {\n",
              "        text-align: right;\n",
              "    }\n",
              "</style>\n",
              "<table border=\"1\" class=\"dataframe\">\n",
              "  <thead>\n",
              "    <tr style=\"text-align: right;\">\n",
              "      <th></th>\n",
              "      <th>iid</th>\n",
              "      <th>wave</th>\n",
              "      <th>gender</th>\n",
              "      <th>race</th>\n",
              "      <th>match</th>\n",
              "      <th>samerace</th>\n",
              "      <th>age</th>\n",
              "    </tr>\n",
              "  </thead>\n",
              "  <tbody>\n",
              "    <tr>\n",
              "      <th>0</th>\n",
              "      <td>1</td>\n",
              "      <td>1.000</td>\n",
              "      <td>0.000</td>\n",
              "      <td>4.000</td>\n",
              "      <td>0.400</td>\n",
              "      <td>0.100</td>\n",
              "      <td>21.000</td>\n",
              "    </tr>\n",
              "    <tr>\n",
              "      <th>1</th>\n",
              "      <td>2</td>\n",
              "      <td>1.000</td>\n",
              "      <td>0.000</td>\n",
              "      <td>2.000</td>\n",
              "      <td>0.200</td>\n",
              "      <td>0.800</td>\n",
              "      <td>24.000</td>\n",
              "    </tr>\n",
              "    <tr>\n",
              "      <th>2</th>\n",
              "      <td>3</td>\n",
              "      <td>1.000</td>\n",
              "      <td>0.000</td>\n",
              "      <td>2.000</td>\n",
              "      <td>0.000</td>\n",
              "      <td>0.800</td>\n",
              "      <td>25.000</td>\n",
              "    </tr>\n",
              "    <tr>\n",
              "      <th>3</th>\n",
              "      <td>4</td>\n",
              "      <td>1.000</td>\n",
              "      <td>0.000</td>\n",
              "      <td>2.000</td>\n",
              "      <td>0.200</td>\n",
              "      <td>0.800</td>\n",
              "      <td>23.000</td>\n",
              "    </tr>\n",
              "    <tr>\n",
              "      <th>4</th>\n",
              "      <td>5</td>\n",
              "      <td>1.000</td>\n",
              "      <td>0.000</td>\n",
              "      <td>2.000</td>\n",
              "      <td>0.200</td>\n",
              "      <td>0.800</td>\n",
              "      <td>21.000</td>\n",
              "    </tr>\n",
              "    <tr>\n",
              "      <th>5</th>\n",
              "      <td>6</td>\n",
              "      <td>1.000</td>\n",
              "      <td>0.000</td>\n",
              "      <td>4.000</td>\n",
              "      <td>0.200</td>\n",
              "      <td>0.100</td>\n",
              "      <td>23.000</td>\n",
              "    </tr>\n",
              "    <tr>\n",
              "      <th>6</th>\n",
              "      <td>7</td>\n",
              "      <td>1.000</td>\n",
              "      <td>0.000</td>\n",
              "      <td>4.000</td>\n",
              "      <td>0.200</td>\n",
              "      <td>0.100</td>\n",
              "      <td>22.000</td>\n",
              "    </tr>\n",
              "    <tr>\n",
              "      <th>7</th>\n",
              "      <td>8</td>\n",
              "      <td>1.000</td>\n",
              "      <td>0.000</td>\n",
              "      <td>2.000</td>\n",
              "      <td>0.800</td>\n",
              "      <td>0.800</td>\n",
              "      <td>25.000</td>\n",
              "    </tr>\n",
              "    <tr>\n",
              "      <th>8</th>\n",
              "      <td>9</td>\n",
              "      <td>1.000</td>\n",
              "      <td>0.000</td>\n",
              "      <td>6.000</td>\n",
              "      <td>0.700</td>\n",
              "      <td>0.000</td>\n",
              "      <td>26.000</td>\n",
              "    </tr>\n",
              "    <tr>\n",
              "      <th>9</th>\n",
              "      <td>10</td>\n",
              "      <td>1.000</td>\n",
              "      <td>0.000</td>\n",
              "      <td>2.000</td>\n",
              "      <td>0.200</td>\n",
              "      <td>0.800</td>\n",
              "      <td>26.000</td>\n",
              "    </tr>\n",
              "    <tr>\n",
              "      <th>10</th>\n",
              "      <td>11</td>\n",
              "      <td>1.000</td>\n",
              "      <td>1.000</td>\n",
              "      <td>2.000</td>\n",
              "      <td>0.000</td>\n",
              "      <td>0.600</td>\n",
              "      <td>27.000</td>\n",
              "    </tr>\n",
              "    <tr>\n",
              "      <th>11</th>\n",
              "      <td>12</td>\n",
              "      <td>1.000</td>\n",
              "      <td>1.000</td>\n",
              "      <td>2.000</td>\n",
              "      <td>0.200</td>\n",
              "      <td>0.600</td>\n",
              "      <td>22.000</td>\n",
              "    </tr>\n",
              "  </tbody>\n",
              "</table>\n",
              "</div>"
            ],
            "text/plain": [
              "    iid  wave  gender  race  match  samerace    age\n",
              "0     1 1.000   0.000 4.000  0.400     0.100 21.000\n",
              "1     2 1.000   0.000 2.000  0.200     0.800 24.000\n",
              "2     3 1.000   0.000 2.000  0.000     0.800 25.000\n",
              "3     4 1.000   0.000 2.000  0.200     0.800 23.000\n",
              "4     5 1.000   0.000 2.000  0.200     0.800 21.000\n",
              "5     6 1.000   0.000 4.000  0.200     0.100 23.000\n",
              "6     7 1.000   0.000 4.000  0.200     0.100 22.000\n",
              "7     8 1.000   0.000 2.000  0.800     0.800 25.000\n",
              "8     9 1.000   0.000 6.000  0.700     0.000 26.000\n",
              "9    10 1.000   0.000 2.000  0.200     0.800 26.000\n",
              "10   11 1.000   1.000 2.000  0.000     0.600 27.000\n",
              "11   12 1.000   1.000 2.000  0.200     0.600 22.000"
            ]
          },
          "metadata": {
            "tags": []
          },
          "execution_count": 35
        }
      ]
    },
    {
      "cell_type": "code",
      "metadata": {
        "id": "OWpxupcmk6EQ",
        "colab": {
          "base_uri": "https://localhost:8080/",
          "height": 153
        },
        "outputId": "103a590c-d941-4eef-b407-64bbca0724f0"
      },
      "source": [
        "Dating_clean.isna().sum()"
      ],
      "execution_count": null,
      "outputs": [
        {
          "output_type": "execute_result",
          "data": {
            "text/plain": [
              "iid         0\n",
              "wave        0\n",
              "gender      0\n",
              "race        0\n",
              "match       0\n",
              "samerace    0\n",
              "age         0\n",
              "dtype: int64"
            ]
          },
          "metadata": {
            "tags": []
          },
          "execution_count": 36
        }
      ]
    },
    {
      "cell_type": "markdown",
      "metadata": {
        "id": "5ZcT5vcOjadO"
      },
      "source": [
        "## Prediction"
      ]
    },
    {
      "cell_type": "markdown",
      "metadata": {
        "id": "I5YggZjSPkoA"
      },
      "source": [
        "### Linear Regression for prediction"
      ]
    },
    {
      "cell_type": "markdown",
      "metadata": {
        "id": "1yCAuelYhs9t"
      },
      "source": [
        "First of all, I try to predict match rate using gender, same-race rate and age."
      ]
    },
    {
      "cell_type": "code",
      "metadata": {
        "id": "6Oclm0zgqmuk",
        "colab": {
          "base_uri": "https://localhost:8080/",
          "height": 68
        },
        "outputId": "30334ee5-a8bc-4321-9c5e-56e667eb86f8"
      },
      "source": [
        "# defining X and Y\n",
        "#Assign X a set of data, gender, samerace, age\n",
        "features_list = [\"gender\",\"samerace\",\"age\"]\n",
        "X = Dating_clean[features_list]\n",
        "#Assign Y at the response variable\n",
        "Y = Dating_clean[\"match\"]\n",
        "\n",
        "X_train,X_test,Y_train,Y_test=train_test_split(X,Y)\n",
        "linreg=LinearRegression() # assign a linear regression\n",
        "linreg.fit(X_train,Y_train) # fit model to train data\n",
        "Y_pred=linreg.predict(X_test)\n",
        "\n",
        "print(\"Model intercept:\", linreg.intercept_)\n",
        "coef=list(zip(features_list,linreg.coef_)) # combine the slope and the features list together\n",
        "print(\"Model slope:\", coef)\n",
        "\n",
        "#r2=r2_score(Y_test, Y_pred, multioutput='variance_weighted')\n",
        "print(\"Variance Score:\",linreg.score(X_test, Y_test))"
      ],
      "execution_count": null,
      "outputs": [
        {
          "output_type": "stream",
          "text": [
            "Model intercept: 0.35080553074804344\n",
            "Model slope: [('gender', 0.016114879679751632), ('samerace', -0.028911969781272858), ('age', -0.006917365766619946)]\n",
            "Variance Score: -0.09505914840341734\n"
          ],
          "name": "stdout"
        }
      ]
    },
    {
      "cell_type": "markdown",
      "metadata": {
        "id": "dCr4xYkX30Ui"
      },
      "source": [
        "### Dummy Coding & Race as a predicter"
      ]
    },
    {
      "cell_type": "markdown",
      "metadata": {
        "id": "87ju3ZBViFa_"
      },
      "source": [
        "Second, I try to dummy code racial rategories to predict match rate."
      ]
    },
    {
      "cell_type": "code",
      "metadata": {
        "id": "9tqQfc-PCZXe"
      },
      "source": [
        "#Dummy Coding; I assigned European/Caucasian-American as the baseline since their number is the most in the sample\n",
        "Dating_clean[\"race_Black/African American\"]=Dating_clean.race.map({1:1,2:0,3:0, 4:0, 5:0, 6:0})\n",
        "Dating_clean[\"race_European/Caucasian-American\"]=Dating_clean.race.map({1:0,2:1,3:0, 4:0, 5:0, 6:0})\n",
        "Dating_clean[\"race_Latino/Hispanic American\"]=Dating_clean.race.map({1:0,2:0,3:1, 4:0, 5:0, 6:0})\n",
        "Dating_clean[\"race_Asian/Pacific Islander/Asian-American\"]=Dating_clean.race.map({1:0,2:0,3:0, 4:1, 5:0, 6:0})\n",
        "Dating_clean[\"race_Native American\"]=Dating_clean.race.map({1:0,2:0,3:0, 4:0, 5:1, 6:0})\n",
        "Dating_clean[\"race_Other\"]=Dating_clean.race.map({1:0,2:0,3:0, 4:0, 5:0, 6:1})"
      ],
      "execution_count": null,
      "outputs": []
    },
    {
      "cell_type": "code",
      "metadata": {
        "id": "N0JMOQDtRGKS",
        "colab": {
          "base_uri": "https://localhost:8080/",
          "height": 88
        },
        "outputId": "5237581c-a389-4e34-b9ec-33e5e43cd78c"
      },
      "source": [
        "features_list = [\"gender\",\"race_Black/African American\",\"race_European/Caucasian-American\",\"race_Latino/Hispanic American\",\n",
        "                 \"race_Asian/Pacific Islander/Asian-American\",\"race_Other\",\"age\"]\n",
        "X = Dating_clean[features_list]\n",
        "#Assign Y at the response variable\n",
        "Y = Dating_clean[\"match\"]\n",
        "\n",
        "X_train,X_test,Y_train,Y_test=train_test_split(X,Y)\n",
        "linreg=LinearRegression() # assign a linear regression\n",
        "linreg.fit(X_train,Y_train) # fit model to train data\n",
        "Y_pred=linreg.predict(X_test)\n",
        "\n",
        "print(\"Model intercept:\", linreg.intercept_)\n",
        "coef=list(zip(features_list,linreg.coef_)) # combine the slope and the features list together\n",
        "print(\"Model slope:\", coef)\n",
        "\n",
        "# r2=r2_score(Y_test, Y_pred, multioutput='variance_weighted')\n",
        "print(\"Variance Score:\",linreg.score(X_test, Y_test))"
      ],
      "execution_count": null,
      "outputs": [
        {
          "output_type": "stream",
          "text": [
            "Model intercept: 0.3577563230605821\n",
            "Model slope: [('gender', -0.004431899488693768), ('race_Black/African American', 0.0054380977716950805), ('race_European/Caucasian-American', -0.01390456246107797), ('race_Latino/Hispanic American', 0.054247300592108645), ('race_Asian/Pacific Islander/Asian-American', -0.061168486258957724), ('race_Other', 0.015387650356231977), ('age', -0.006293660630699505)]\n",
            "Variance Score: 0.004671305801194348\n"
          ],
          "name": "stdout"
        }
      ]
    },
    {
      "cell_type": "markdown",
      "metadata": {
        "id": "yMmL545l3vtS"
      },
      "source": [
        "### Summary\n",
        "The variance score is not very high, it is too close to 0. \n",
        "\n",
        "However, age is always a negative in both slopes, which indicate that the older people went to speed dating, the less change people get the match.\n"
      ]
    },
    {
      "cell_type": "markdown",
      "metadata": {
        "id": "EdhD9bDSevMR"
      },
      "source": [
        "## Visualization"
      ]
    },
    {
      "cell_type": "markdown",
      "metadata": {
        "id": "MwVo0EfGLLf4"
      },
      "source": [
        "### Reframed hypothsis\n",
        "I made an assumption through preveious study that Black women and Asian men tend to be the least attractive (Data through online dating website called OkCubid) \n",
        "I want to challenge this assumption to see the result after 4 minutes of interaction through speed dating analysis."
      ]
    },
    {
      "cell_type": "markdown",
      "metadata": {
        "id": "JTxOD3Dki6O-"
      },
      "source": [
        "### Population by Gender and Race"
      ]
    },
    {
      "cell_type": "code",
      "metadata": {
        "id": "6ph62RJlLGG2",
        "colab": {
          "base_uri": "https://localhost:8080/",
          "height": 102
        },
        "outputId": "53274be2-17fa-44a6-ec8d-d70fb87b18ac"
      },
      "source": [
        "Dating_revised_1=rp.summary_cont(Dating_clean.groupby(by=[\"race_Name\",\"gender_Name\"])[\"match\"]).reset_index()\n",
        "Dating_revised_1.columns"
      ],
      "execution_count": null,
      "outputs": [
        {
          "output_type": "stream",
          "text": [
            "\n",
            "\n"
          ],
          "name": "stdout"
        },
        {
          "output_type": "execute_result",
          "data": {
            "text/plain": [
              "Index(['race_Name', 'gender_Name', 'N', 'Mean', 'SD', 'SE', '95% Conf.',\n",
              "       'Interval'],\n",
              "      dtype='object')"
            ]
          },
          "metadata": {
            "tags": []
          },
          "execution_count": 47
        }
      ]
    },
    {
      "cell_type": "code",
      "metadata": {
        "id": "jtcky0NjdMZZ",
        "colab": {
          "base_uri": "https://localhost:8080/",
          "height": 542
        },
        "outputId": "af04c4cd-1241-49da-bea8-0d34a9ceb6d2"
      },
      "source": [
        "fig = px.bar(Dating_revised_1, x='race_Name', y='N', \n",
        "             color='gender_Name', barmode='group',labels={'N':'Number of Participants','race_Name':'Race'})\n",
        "fig.update_layout(title='Number of Participants by Gender and Race')"
      ],
      "execution_count": null,
      "outputs": [
        {
          "output_type": "display_data",
          "data": {
            "text/html": [
              "<html>\n",
              "<head><meta charset=\"utf-8\" /></head>\n",
              "<body>\n",
              "    <div>\n",
              "            <script src=\"https://cdnjs.cloudflare.com/ajax/libs/mathjax/2.7.5/MathJax.js?config=TeX-AMS-MML_SVG\"></script><script type=\"text/javascript\">if (window.MathJax) {MathJax.Hub.Config({SVG: {font: \"STIX-Web\"}});}</script>\n",
              "                <script type=\"text/javascript\">window.PlotlyConfig = {MathJaxConfig: 'local'};</script>\n",
              "        <script src=\"https://cdn.plot.ly/plotly-latest.min.js\"></script>    \n",
              "            <div id=\"406b0840-da13-49f2-be31-2ba14e75bdf6\" class=\"plotly-graph-div\" style=\"height:525px; width:100%;\"></div>\n",
              "            <script type=\"text/javascript\">\n",
              "                \n",
              "                    window.PLOTLYENV=window.PLOTLYENV || {};\n",
              "                    \n",
              "                if (document.getElementById(\"406b0840-da13-49f2-be31-2ba14e75bdf6\")) {\n",
              "                    Plotly.newPlot(\n",
              "                        '406b0840-da13-49f2-be31-2ba14e75bdf6',\n",
              "                        [{\"alignmentgroup\": \"True\", \"hoverlabel\": {\"namelength\": 0}, \"hovertemplate\": \"gender_Name=female<br>Race=%{x}<br>Number of Participants=%{y}\", \"legendgroup\": \"gender_Name=female\", \"marker\": {\"color\": \"#636efa\"}, \"name\": \"gender_Name=female\", \"offsetgroup\": \"gender_Name=female\", \"orientation\": \"v\", \"showlegend\": true, \"textposition\": \"auto\", \"type\": \"bar\", \"x\": [\"Asian/Pacific Islander/Asian American\", \"Black/African American\", \"European/Caucasian-American\", \"Latino/Hispanic American\", \"Other\"], \"xaxis\": \"x\", \"y\": [54, 14, 122, 18, 13], \"yaxis\": \"y\"}, {\"alignmentgroup\": \"True\", \"hoverlabel\": {\"namelength\": 0}, \"hovertemplate\": \"gender_Name=male<br>Race=%{x}<br>Number of Participants=%{y}\", \"legendgroup\": \"gender_Name=male\", \"marker\": {\"color\": \"#EF553B\"}, \"name\": \"gender_Name=male\", \"offsetgroup\": \"gender_Name=male\", \"orientation\": \"v\", \"showlegend\": true, \"textposition\": \"auto\", \"type\": \"bar\", \"x\": [\"Asian/Pacific Islander/Asian American\", \"Black/African American\", \"European/Caucasian-American\", \"Latino/Hispanic American\", \"Other\"], \"xaxis\": \"x\", \"y\": [46, 8, 138, 15, 17], \"yaxis\": \"y\"}],\n",
              "                        {\"barmode\": \"group\", \"legend\": {\"tracegroupgap\": 0}, \"margin\": {\"t\": 60}, \"template\": {\"data\": {\"bar\": [{\"error_x\": {\"color\": \"#2a3f5f\"}, \"error_y\": {\"color\": \"#2a3f5f\"}, \"marker\": {\"line\": {\"color\": \"#E5ECF6\", \"width\": 0.5}}, \"type\": \"bar\"}], \"barpolar\": [{\"marker\": {\"line\": {\"color\": \"#E5ECF6\", \"width\": 0.5}}, \"type\": \"barpolar\"}], \"carpet\": [{\"aaxis\": {\"endlinecolor\": \"#2a3f5f\", \"gridcolor\": \"white\", \"linecolor\": \"white\", \"minorgridcolor\": \"white\", \"startlinecolor\": \"#2a3f5f\"}, \"baxis\": {\"endlinecolor\": \"#2a3f5f\", \"gridcolor\": \"white\", \"linecolor\": \"white\", \"minorgridcolor\": \"white\", \"startlinecolor\": \"#2a3f5f\"}, \"type\": \"carpet\"}], \"choropleth\": [{\"colorbar\": {\"outlinewidth\": 0, \"ticks\": \"\"}, \"type\": \"choropleth\"}], \"contour\": [{\"colorbar\": {\"outlinewidth\": 0, \"ticks\": \"\"}, \"colorscale\": [[0.0, \"#0d0887\"], [0.1111111111111111, \"#46039f\"], [0.2222222222222222, \"#7201a8\"], [0.3333333333333333, \"#9c179e\"], [0.4444444444444444, \"#bd3786\"], [0.5555555555555556, \"#d8576b\"], [0.6666666666666666, \"#ed7953\"], [0.7777777777777778, \"#fb9f3a\"], [0.8888888888888888, \"#fdca26\"], [1.0, \"#f0f921\"]], \"type\": \"contour\"}], \"contourcarpet\": [{\"colorbar\": {\"outlinewidth\": 0, \"ticks\": \"\"}, \"type\": \"contourcarpet\"}], \"heatmap\": [{\"colorbar\": {\"outlinewidth\": 0, \"ticks\": \"\"}, \"colorscale\": [[0.0, \"#0d0887\"], [0.1111111111111111, \"#46039f\"], [0.2222222222222222, \"#7201a8\"], [0.3333333333333333, \"#9c179e\"], [0.4444444444444444, \"#bd3786\"], [0.5555555555555556, \"#d8576b\"], [0.6666666666666666, \"#ed7953\"], [0.7777777777777778, \"#fb9f3a\"], [0.8888888888888888, \"#fdca26\"], [1.0, \"#f0f921\"]], \"type\": \"heatmap\"}], \"heatmapgl\": [{\"colorbar\": {\"outlinewidth\": 0, \"ticks\": \"\"}, \"colorscale\": [[0.0, \"#0d0887\"], [0.1111111111111111, \"#46039f\"], [0.2222222222222222, \"#7201a8\"], [0.3333333333333333, \"#9c179e\"], [0.4444444444444444, \"#bd3786\"], [0.5555555555555556, \"#d8576b\"], [0.6666666666666666, \"#ed7953\"], [0.7777777777777778, \"#fb9f3a\"], [0.8888888888888888, \"#fdca26\"], [1.0, \"#f0f921\"]], \"type\": \"heatmapgl\"}], \"histogram\": [{\"marker\": {\"colorbar\": {\"outlinewidth\": 0, \"ticks\": \"\"}}, \"type\": \"histogram\"}], \"histogram2d\": [{\"colorbar\": {\"outlinewidth\": 0, \"ticks\": \"\"}, \"colorscale\": [[0.0, \"#0d0887\"], [0.1111111111111111, \"#46039f\"], [0.2222222222222222, \"#7201a8\"], [0.3333333333333333, \"#9c179e\"], [0.4444444444444444, \"#bd3786\"], [0.5555555555555556, \"#d8576b\"], [0.6666666666666666, \"#ed7953\"], [0.7777777777777778, \"#fb9f3a\"], [0.8888888888888888, \"#fdca26\"], [1.0, \"#f0f921\"]], \"type\": \"histogram2d\"}], \"histogram2dcontour\": [{\"colorbar\": {\"outlinewidth\": 0, \"ticks\": \"\"}, \"colorscale\": [[0.0, \"#0d0887\"], [0.1111111111111111, \"#46039f\"], [0.2222222222222222, \"#7201a8\"], [0.3333333333333333, \"#9c179e\"], [0.4444444444444444, \"#bd3786\"], [0.5555555555555556, \"#d8576b\"], [0.6666666666666666, \"#ed7953\"], [0.7777777777777778, \"#fb9f3a\"], [0.8888888888888888, \"#fdca26\"], [1.0, \"#f0f921\"]], \"type\": \"histogram2dcontour\"}], \"mesh3d\": [{\"colorbar\": {\"outlinewidth\": 0, \"ticks\": \"\"}, \"type\": \"mesh3d\"}], \"parcoords\": [{\"line\": {\"colorbar\": {\"outlinewidth\": 0, \"ticks\": \"\"}}, \"type\": \"parcoords\"}], \"pie\": [{\"automargin\": true, \"type\": \"pie\"}], \"scatter\": [{\"marker\": {\"colorbar\": {\"outlinewidth\": 0, \"ticks\": \"\"}}, \"type\": \"scatter\"}], \"scatter3d\": [{\"line\": {\"colorbar\": {\"outlinewidth\": 0, \"ticks\": \"\"}}, \"marker\": {\"colorbar\": {\"outlinewidth\": 0, \"ticks\": \"\"}}, \"type\": \"scatter3d\"}], \"scattercarpet\": [{\"marker\": {\"colorbar\": {\"outlinewidth\": 0, \"ticks\": \"\"}}, \"type\": \"scattercarpet\"}], \"scattergeo\": [{\"marker\": {\"colorbar\": {\"outlinewidth\": 0, \"ticks\": \"\"}}, \"type\": \"scattergeo\"}], \"scattergl\": [{\"marker\": {\"colorbar\": {\"outlinewidth\": 0, \"ticks\": \"\"}}, \"type\": \"scattergl\"}], \"scattermapbox\": [{\"marker\": {\"colorbar\": {\"outlinewidth\": 0, \"ticks\": \"\"}}, \"type\": \"scattermapbox\"}], \"scatterpolar\": [{\"marker\": {\"colorbar\": {\"outlinewidth\": 0, \"ticks\": \"\"}}, \"type\": \"scatterpolar\"}], \"scatterpolargl\": [{\"marker\": {\"colorbar\": {\"outlinewidth\": 0, \"ticks\": \"\"}}, \"type\": \"scatterpolargl\"}], \"scatterternary\": [{\"marker\": {\"colorbar\": {\"outlinewidth\": 0, \"ticks\": \"\"}}, \"type\": \"scatterternary\"}], \"surface\": [{\"colorbar\": {\"outlinewidth\": 0, \"ticks\": \"\"}, \"colorscale\": [[0.0, \"#0d0887\"], [0.1111111111111111, \"#46039f\"], [0.2222222222222222, \"#7201a8\"], [0.3333333333333333, \"#9c179e\"], [0.4444444444444444, \"#bd3786\"], [0.5555555555555556, \"#d8576b\"], [0.6666666666666666, \"#ed7953\"], [0.7777777777777778, \"#fb9f3a\"], [0.8888888888888888, \"#fdca26\"], [1.0, \"#f0f921\"]], \"type\": \"surface\"}], \"table\": [{\"cells\": {\"fill\": {\"color\": \"#EBF0F8\"}, \"line\": {\"color\": \"white\"}}, \"header\": {\"fill\": {\"color\": \"#C8D4E3\"}, \"line\": {\"color\": \"white\"}}, \"type\": \"table\"}]}, \"layout\": {\"annotationdefaults\": {\"arrowcolor\": \"#2a3f5f\", \"arrowhead\": 0, \"arrowwidth\": 1}, \"coloraxis\": {\"colorbar\": {\"outlinewidth\": 0, \"ticks\": \"\"}}, \"colorscale\": {\"diverging\": [[0, \"#8e0152\"], [0.1, \"#c51b7d\"], [0.2, \"#de77ae\"], [0.3, \"#f1b6da\"], [0.4, \"#fde0ef\"], [0.5, \"#f7f7f7\"], [0.6, \"#e6f5d0\"], [0.7, \"#b8e186\"], [0.8, \"#7fbc41\"], [0.9, \"#4d9221\"], [1, \"#276419\"]], \"sequential\": [[0.0, \"#0d0887\"], [0.1111111111111111, \"#46039f\"], [0.2222222222222222, \"#7201a8\"], [0.3333333333333333, \"#9c179e\"], [0.4444444444444444, \"#bd3786\"], [0.5555555555555556, \"#d8576b\"], [0.6666666666666666, \"#ed7953\"], [0.7777777777777778, \"#fb9f3a\"], [0.8888888888888888, \"#fdca26\"], [1.0, \"#f0f921\"]], \"sequentialminus\": [[0.0, \"#0d0887\"], [0.1111111111111111, \"#46039f\"], [0.2222222222222222, \"#7201a8\"], [0.3333333333333333, \"#9c179e\"], [0.4444444444444444, \"#bd3786\"], [0.5555555555555556, \"#d8576b\"], [0.6666666666666666, \"#ed7953\"], [0.7777777777777778, \"#fb9f3a\"], [0.8888888888888888, \"#fdca26\"], [1.0, \"#f0f921\"]]}, \"colorway\": [\"#636efa\", \"#EF553B\", \"#00cc96\", \"#ab63fa\", \"#FFA15A\", \"#19d3f3\", \"#FF6692\", \"#B6E880\", \"#FF97FF\", \"#FECB52\"], \"font\": {\"color\": \"#2a3f5f\"}, \"geo\": {\"bgcolor\": \"white\", \"lakecolor\": \"white\", \"landcolor\": \"#E5ECF6\", \"showlakes\": true, \"showland\": true, \"subunitcolor\": \"white\"}, \"hoverlabel\": {\"align\": \"left\"}, \"hovermode\": \"closest\", \"mapbox\": {\"style\": \"light\"}, \"paper_bgcolor\": \"white\", \"plot_bgcolor\": \"#E5ECF6\", \"polar\": {\"angularaxis\": {\"gridcolor\": \"white\", \"linecolor\": \"white\", \"ticks\": \"\"}, \"bgcolor\": \"#E5ECF6\", \"radialaxis\": {\"gridcolor\": \"white\", \"linecolor\": \"white\", \"ticks\": \"\"}}, \"scene\": {\"xaxis\": {\"backgroundcolor\": \"#E5ECF6\", \"gridcolor\": \"white\", \"gridwidth\": 2, \"linecolor\": \"white\", \"showbackground\": true, \"ticks\": \"\", \"zerolinecolor\": \"white\"}, \"yaxis\": {\"backgroundcolor\": \"#E5ECF6\", \"gridcolor\": \"white\", \"gridwidth\": 2, \"linecolor\": \"white\", \"showbackground\": true, \"ticks\": \"\", \"zerolinecolor\": \"white\"}, \"zaxis\": {\"backgroundcolor\": \"#E5ECF6\", \"gridcolor\": \"white\", \"gridwidth\": 2, \"linecolor\": \"white\", \"showbackground\": true, \"ticks\": \"\", \"zerolinecolor\": \"white\"}}, \"shapedefaults\": {\"line\": {\"color\": \"#2a3f5f\"}}, \"ternary\": {\"aaxis\": {\"gridcolor\": \"white\", \"linecolor\": \"white\", \"ticks\": \"\"}, \"baxis\": {\"gridcolor\": \"white\", \"linecolor\": \"white\", \"ticks\": \"\"}, \"bgcolor\": \"#E5ECF6\", \"caxis\": {\"gridcolor\": \"white\", \"linecolor\": \"white\", \"ticks\": \"\"}}, \"title\": {\"x\": 0.05}, \"xaxis\": {\"automargin\": true, \"gridcolor\": \"white\", \"linecolor\": \"white\", \"ticks\": \"\", \"title\": {\"standoff\": 15}, \"zerolinecolor\": \"white\", \"zerolinewidth\": 2}, \"yaxis\": {\"automargin\": true, \"gridcolor\": \"white\", \"linecolor\": \"white\", \"ticks\": \"\", \"title\": {\"standoff\": 15}, \"zerolinecolor\": \"white\", \"zerolinewidth\": 2}}}, \"title\": {\"text\": \"Number of Participants by Gender and Race\"}, \"xaxis\": {\"anchor\": \"y\", \"domain\": [0.0, 1.0], \"title\": {\"text\": \"Race\"}}, \"yaxis\": {\"anchor\": \"x\", \"domain\": [0.0, 1.0], \"title\": {\"text\": \"Number of Participants\"}}},\n",
              "                        {\"responsive\": true}\n",
              "                    ).then(function(){\n",
              "                            \n",
              "var gd = document.getElementById('406b0840-da13-49f2-be31-2ba14e75bdf6');\n",
              "var x = new MutationObserver(function (mutations, observer) {{\n",
              "        var display = window.getComputedStyle(gd).display;\n",
              "        if (!display || display === 'none') {{\n",
              "            console.log([gd, 'removed!']);\n",
              "            Plotly.purge(gd);\n",
              "            observer.disconnect();\n",
              "        }}\n",
              "}});\n",
              "\n",
              "// Listen for the removal of the full notebook cells\n",
              "var notebookContainer = gd.closest('#notebook-container');\n",
              "if (notebookContainer) {{\n",
              "    x.observe(notebookContainer, {childList: true});\n",
              "}}\n",
              "\n",
              "// Listen for the clearing of the current output cell\n",
              "var outputEl = gd.closest('.output');\n",
              "if (outputEl) {{\n",
              "    x.observe(outputEl, {childList: true});\n",
              "}}\n",
              "\n",
              "                        })\n",
              "                };\n",
              "                \n",
              "            </script>\n",
              "        </div>\n",
              "</body>\n",
              "</html>"
            ]
          },
          "metadata": {
            "tags": []
          }
        }
      ]
    },
    {
      "cell_type": "markdown",
      "metadata": {
        "id": "2qNWLftAk9DM"
      },
      "source": [
        "### Reframed hypothsis 2\n",
        "My hypothesis requires me to compare Asian men & Black Women with white men & women. However, the popultion of black women is very low in this experiement. I won't get good comparason with that amount of data. So, I decide to reframe the hypothesis again:\n",
        "\n",
        "Does match rate of Asian man different from that of white men? If yes, how does the difference look like?"
      ]
    },
    {
      "cell_type": "markdown",
      "metadata": {
        "id": "t963YweVjD1c"
      },
      "source": [
        "### Match rate of each racial categories"
      ]
    },
    {
      "cell_type": "code",
      "metadata": {
        "id": "Cjzpiodb88z9",
        "colab": {
          "base_uri": "https://localhost:8080/",
          "height": 204
        },
        "outputId": "5ddb2f09-ec2a-42cf-cc17-58768f2e8a38"
      },
      "source": [
        "Race_match=Dating_clean[[\"race\",\"match\"]].groupby(by=\"race\").mean().reset_index(\"race\")\n",
        "Race_match[[\"race\"]].astype(dtype=int)\n",
        "Race_match[\"race_Name\"]=(\"Black/African American\",\"European/Caucasian-American\",\"Latino/Hispanic American\",\"Asian/Pacific Islander/Asian-American\",\"Other\")\n",
        "Race_match[[\"race_Name\",\"match\"]].sort_values(\"race_Name\")"
      ],
      "execution_count": null,
      "outputs": [
        {
          "output_type": "execute_result",
          "data": {
            "text/html": [
              "<div>\n",
              "<style scoped>\n",
              "    .dataframe tbody tr th:only-of-type {\n",
              "        vertical-align: middle;\n",
              "    }\n",
              "\n",
              "    .dataframe tbody tr th {\n",
              "        vertical-align: top;\n",
              "    }\n",
              "\n",
              "    .dataframe thead th {\n",
              "        text-align: right;\n",
              "    }\n",
              "</style>\n",
              "<table border=\"1\" class=\"dataframe\">\n",
              "  <thead>\n",
              "    <tr style=\"text-align: right;\">\n",
              "      <th></th>\n",
              "      <th>race_Name</th>\n",
              "      <th>match</th>\n",
              "    </tr>\n",
              "  </thead>\n",
              "  <tbody>\n",
              "    <tr>\n",
              "      <th>3</th>\n",
              "      <td>Asian/Pacific Islander/Asian-American</td>\n",
              "      <td>0.134</td>\n",
              "    </tr>\n",
              "    <tr>\n",
              "      <th>0</th>\n",
              "      <td>Black/African American</td>\n",
              "      <td>0.203</td>\n",
              "    </tr>\n",
              "    <tr>\n",
              "      <th>1</th>\n",
              "      <td>European/Caucasian-American</td>\n",
              "      <td>0.176</td>\n",
              "    </tr>\n",
              "    <tr>\n",
              "      <th>2</th>\n",
              "      <td>Latino/Hispanic American</td>\n",
              "      <td>0.228</td>\n",
              "    </tr>\n",
              "    <tr>\n",
              "      <th>4</th>\n",
              "      <td>Other</td>\n",
              "      <td>0.213</td>\n",
              "    </tr>\n",
              "  </tbody>\n",
              "</table>\n",
              "</div>"
            ],
            "text/plain": [
              "                               race_Name  match\n",
              "3  Asian/Pacific Islander/Asian-American  0.134\n",
              "0                 Black/African American  0.203\n",
              "1            European/Caucasian-American  0.176\n",
              "2               Latino/Hispanic American  0.228\n",
              "4                                  Other  0.213"
            ]
          },
          "metadata": {
            "tags": []
          },
          "execution_count": 42
        }
      ]
    },
    {
      "cell_type": "code",
      "metadata": {
        "id": "UFTO8pJYeu8x",
        "colab": {
          "base_uri": "https://localhost:8080/",
          "height": 295
        },
        "outputId": "ee5f0555-32b0-43c3-c549-4ec21c9d53ae"
      },
      "source": [
        "plt.barh(y=\"race_Name\", width=\"match\",data=Race_match.sort_values(\"race_Name\"))\n",
        "plt.xlabel(\"count of participants\")\n",
        "plt.ylabel('race')\n",
        "plt.title('Match Rate of Participants of Different Race/Ethnicities')\n",
        "plt.gca().invert_yaxis()\n",
        "plt.show()"
      ],
      "execution_count": null,
      "outputs": [
        {
          "output_type": "display_data",
          "data": {
            "image/png": "[encoded data removed]",
            "text/plain": [
              "<Figure size 432x288 with 1 Axes>"
            ]
          },
          "metadata": {
            "tags": [],
            "needs_background": "light"
          }
        }
      ]
    },
    {
      "cell_type": "code",
      "metadata": {
        "id": "LXFWASNDEYJM",
        "colab": {
          "base_uri": "https://localhost:8080/",
          "height": 359
        },
        "outputId": "b0e8b27b-994c-49fb-d2a7-c140daa2209a"
      },
      "source": [
        "Dating_clean[\"gender_Name\"]=Dating_clean.gender.map({0:\"female\",1:\"male\"})\n",
        "Dating_clean[\"race_Name\"]=Dating_clean.race.map({1:\"Black/African American\",2:\"European/Caucasian-American\",3:\"Latino/Hispanic American\",\n",
        "                                                 4:\"Asian/Pacific Islander/Asian American\", 5:\"Native American\", 6:\"Other\"})\n",
        "Dating_revised=Dating_clean[[\"race_Name\",\"gender_Name\"\n",
        ",\"match\",\"samerace\"]].groupby(by=[\"race_Name\",\"gender_Name\"]).mean().reset_index()\n",
        "Dating_revised"
      ],
      "execution_count": null,
      "outputs": [
        {
          "output_type": "execute_result",
          "data": {
            "text/html": [
              "<div>\n",
              "<style scoped>\n",
              "    .dataframe tbody tr th:only-of-type {\n",
              "        vertical-align: middle;\n",
              "    }\n",
              "\n",
              "    .dataframe tbody tr th {\n",
              "        vertical-align: top;\n",
              "    }\n",
              "\n",
              "    .dataframe thead th {\n",
              "        text-align: right;\n",
              "    }\n",
              "</style>\n",
              "<table border=\"1\" class=\"dataframe\">\n",
              "  <thead>\n",
              "    <tr style=\"text-align: right;\">\n",
              "      <th></th>\n",
              "      <th>race_Name</th>\n",
              "      <th>gender_Name</th>\n",
              "      <th>match</th>\n",
              "      <th>samerace</th>\n",
              "    </tr>\n",
              "  </thead>\n",
              "  <tbody>\n",
              "    <tr>\n",
              "      <th>0</th>\n",
              "      <td>Asian/Pacific Islander/Asian American</td>\n",
              "      <td>female</td>\n",
              "      <td>0.140</td>\n",
              "      <td>0.196</td>\n",
              "    </tr>\n",
              "    <tr>\n",
              "      <th>1</th>\n",
              "      <td>Asian/Pacific Islander/Asian American</td>\n",
              "      <td>male</td>\n",
              "      <td>0.127</td>\n",
              "      <td>0.231</td>\n",
              "    </tr>\n",
              "    <tr>\n",
              "      <th>2</th>\n",
              "      <td>Black/African American</td>\n",
              "      <td>female</td>\n",
              "      <td>0.210</td>\n",
              "      <td>0.033</td>\n",
              "    </tr>\n",
              "    <tr>\n",
              "      <th>3</th>\n",
              "      <td>Black/African American</td>\n",
              "      <td>male</td>\n",
              "      <td>0.191</td>\n",
              "      <td>0.053</td>\n",
              "    </tr>\n",
              "    <tr>\n",
              "      <th>4</th>\n",
              "      <td>European/Caucasian-American</td>\n",
              "      <td>female</td>\n",
              "      <td>0.161</td>\n",
              "      <td>0.624</td>\n",
              "    </tr>\n",
              "    <tr>\n",
              "      <th>5</th>\n",
              "      <td>European/Caucasian-American</td>\n",
              "      <td>male</td>\n",
              "      <td>0.189</td>\n",
              "      <td>0.555</td>\n",
              "    </tr>\n",
              "    <tr>\n",
              "      <th>6</th>\n",
              "      <td>Latino/Hispanic American</td>\n",
              "      <td>female</td>\n",
              "      <td>0.273</td>\n",
              "      <td>0.064</td>\n",
              "    </tr>\n",
              "    <tr>\n",
              "      <th>7</th>\n",
              "      <td>Latino/Hispanic American</td>\n",
              "      <td>male</td>\n",
              "      <td>0.175</td>\n",
              "      <td>0.075</td>\n",
              "    </tr>\n",
              "    <tr>\n",
              "      <th>8</th>\n",
              "      <td>Other</td>\n",
              "      <td>female</td>\n",
              "      <td>0.264</td>\n",
              "      <td>0.110</td>\n",
              "    </tr>\n",
              "    <tr>\n",
              "      <th>9</th>\n",
              "      <td>Other</td>\n",
              "      <td>male</td>\n",
              "      <td>0.173</td>\n",
              "      <td>0.085</td>\n",
              "    </tr>\n",
              "  </tbody>\n",
              "</table>\n",
              "</div>"
            ],
            "text/plain": [
              "                               race_Name gender_Name  match  samerace\n",
              "0  Asian/Pacific Islander/Asian American      female  0.140     0.196\n",
              "1  Asian/Pacific Islander/Asian American        male  0.127     0.231\n",
              "2                 Black/African American      female  0.210     0.033\n",
              "3                 Black/African American        male  0.191     0.053\n",
              "4            European/Caucasian-American      female  0.161     0.624\n",
              "5            European/Caucasian-American        male  0.189     0.555\n",
              "6               Latino/Hispanic American      female  0.273     0.064\n",
              "7               Latino/Hispanic American        male  0.175     0.075\n",
              "8                                  Other      female  0.264     0.110\n",
              "9                                  Other        male  0.173     0.085"
            ]
          },
          "metadata": {
            "tags": []
          },
          "execution_count": 44
        }
      ]
    },
    {
      "cell_type": "markdown",
      "metadata": {
        "id": "86yfDz15kN38"
      },
      "source": [
        "### Match rate by Gender and Race"
      ]
    },
    {
      "cell_type": "code",
      "metadata": {
        "id": "zWiMjFsTGmY6",
        "colab": {
          "base_uri": "https://localhost:8080/",
          "height": 542
        },
        "outputId": "df5a1094-9ccc-4e8a-b196-fa783492ece8"
      },
      "source": [
        "fig = px.bar(Dating_revised, x='race_Name', y='match', \n",
        "             color='gender_Name', barmode='group',labels={'match':'March Rate','race_Name':'Race'})\n",
        "fig.update_layout(title='Match Rate by Gender and Race')"
      ],
      "execution_count": null,
      "outputs": [
        {
          "output_type": "display_data",
          "data": {
            "text/html": [
              "<html>\n",
              "<head><meta charset=\"utf-8\" /></head>\n",
              "<body>\n",
              "    <div>\n",
              "            <script src=\"https://cdnjs.cloudflare.com/ajax/libs/mathjax/2.7.5/MathJax.js?config=TeX-AMS-MML_SVG\"></script><script type=\"text/javascript\">if (window.MathJax) {MathJax.Hub.Config({SVG: {font: \"STIX-Web\"}});}</script>\n",
              "                <script type=\"text/javascript\">window.PlotlyConfig = {MathJaxConfig: 'local'};</script>\n",
              "        <script src=\"https://cdn.plot.ly/plotly-latest.min.js\"></script>    \n",
              "            <div id=\"b2ef2358-f282-455d-96dc-9497c5026315\" class=\"plotly-graph-div\" style=\"height:525px; width:100%;\"></div>\n",
              "            <script type=\"text/javascript\">\n",
              "                \n",
              "                    window.PLOTLYENV=window.PLOTLYENV || {};\n",
              "                    \n",
              "                if (document.getElementById(\"b2ef2358-f282-455d-96dc-9497c5026315\")) {\n",
              "                    Plotly.newPlot(\n",
              "                        'b2ef2358-f282-455d-96dc-9497c5026315',\n",
              "                        [{\"alignmentgroup\": \"True\", \"hoverlabel\": {\"namelength\": 0}, \"hovertemplate\": \"gender_Name=female<br>Race=%{x}<br>March Rate=%{y}\", \"legendgroup\": \"gender_Name=female\", \"marker\": {\"color\": \"#636efa\"}, \"name\": \"gender_Name=female\", \"offsetgroup\": \"gender_Name=female\", \"orientation\": \"v\", \"showlegend\": true, \"textposition\": \"auto\", \"type\": \"bar\", \"x\": [\"Asian/Pacific Islander/Asian American\", \"Black/African American\", \"European/Caucasian-American\", \"Latino/Hispanic American\", \"Other\"], \"xaxis\": \"x\", \"y\": [0.14047735078436835, 0.2099989557226399, 0.16104400345125108, 0.27302689594356266, 0.2644078144078144], \"yaxis\": \"y\"}, {\"alignmentgroup\": \"True\", \"hoverlabel\": {\"namelength\": 0}, \"hovertemplate\": \"gender_Name=male<br>Race=%{x}<br>March Rate=%{y}\", \"legendgroup\": \"gender_Name=male\", \"marker\": {\"color\": \"#EF553B\"}, \"name\": \"gender_Name=male\", \"offsetgroup\": \"gender_Name=male\", \"orientation\": \"v\", \"showlegend\": true, \"textposition\": \"auto\", \"type\": \"bar\", \"x\": [\"Asian/Pacific Islander/Asian American\", \"Black/African American\", \"European/Caucasian-American\", \"Latino/Hispanic American\", \"Other\"], \"xaxis\": \"x\", \"y\": [0.1267105717191529, 0.1905218776106934, 0.18897046359861008, 0.17465608465608465, 0.17316760037348272], \"yaxis\": \"y\"}],\n",
              "                        {\"barmode\": \"group\", \"legend\": {\"tracegroupgap\": 0}, \"margin\": {\"t\": 60}, \"template\": {\"data\": {\"bar\": [{\"error_x\": {\"color\": \"#2a3f5f\"}, \"error_y\": {\"color\": \"#2a3f5f\"}, \"marker\": {\"line\": {\"color\": \"#E5ECF6\", \"width\": 0.5}}, \"type\": \"bar\"}], \"barpolar\": [{\"marker\": {\"line\": {\"color\": \"#E5ECF6\", \"width\": 0.5}}, \"type\": \"barpolar\"}], \"carpet\": [{\"aaxis\": {\"endlinecolor\": \"#2a3f5f\", \"gridcolor\": \"white\", \"linecolor\": \"white\", \"minorgridcolor\": \"white\", \"startlinecolor\": \"#2a3f5f\"}, \"baxis\": {\"endlinecolor\": \"#2a3f5f\", \"gridcolor\": \"white\", \"linecolor\": \"white\", \"minorgridcolor\": \"white\", \"startlinecolor\": \"#2a3f5f\"}, \"type\": \"carpet\"}], \"choropleth\": [{\"colorbar\": {\"outlinewidth\": 0, \"ticks\": \"\"}, \"type\": \"choropleth\"}], \"contour\": [{\"colorbar\": {\"outlinewidth\": 0, \"ticks\": \"\"}, \"colorscale\": [[0.0, \"#0d0887\"], [0.1111111111111111, \"#46039f\"], [0.2222222222222222, \"#7201a8\"], [0.3333333333333333, \"#9c179e\"], [0.4444444444444444, \"#bd3786\"], [0.5555555555555556, \"#d8576b\"], [0.6666666666666666, \"#ed7953\"], [0.7777777777777778, \"#fb9f3a\"], [0.8888888888888888, \"#fdca26\"], [1.0, \"#f0f921\"]], \"type\": \"contour\"}], \"contourcarpet\": [{\"colorbar\": {\"outlinewidth\": 0, \"ticks\": \"\"}, \"type\": \"contourcarpet\"}], \"heatmap\": [{\"colorbar\": {\"outlinewidth\": 0, \"ticks\": \"\"}, \"colorscale\": [[0.0, \"#0d0887\"], [0.1111111111111111, \"#46039f\"], [0.2222222222222222, \"#7201a8\"], [0.3333333333333333, \"#9c179e\"], [0.4444444444444444, \"#bd3786\"], [0.5555555555555556, \"#d8576b\"], [0.6666666666666666, \"#ed7953\"], [0.7777777777777778, \"#fb9f3a\"], [0.8888888888888888, \"#fdca26\"], [1.0, \"#f0f921\"]], \"type\": \"heatmap\"}], \"heatmapgl\": [{\"colorbar\": {\"outlinewidth\": 0, \"ticks\": \"\"}, \"colorscale\": [[0.0, \"#0d0887\"], [0.1111111111111111, \"#46039f\"], [0.2222222222222222, \"#7201a8\"], [0.3333333333333333, \"#9c179e\"], [0.4444444444444444, \"#bd3786\"], [0.5555555555555556, \"#d8576b\"], [0.6666666666666666, \"#ed7953\"], [0.7777777777777778, \"#fb9f3a\"], [0.8888888888888888, \"#fdca26\"], [1.0, \"#f0f921\"]], \"type\": \"heatmapgl\"}], \"histogram\": [{\"marker\": {\"colorbar\": {\"outlinewidth\": 0, \"ticks\": \"\"}}, \"type\": \"histogram\"}], \"histogram2d\": [{\"colorbar\": {\"outlinewidth\": 0, \"ticks\": \"\"}, \"colorscale\": [[0.0, \"#0d0887\"], [0.1111111111111111, \"#46039f\"], [0.2222222222222222, \"#7201a8\"], [0.3333333333333333, \"#9c179e\"], [0.4444444444444444, \"#bd3786\"], [0.5555555555555556, \"#d8576b\"], [0.6666666666666666, \"#ed7953\"], [0.7777777777777778, \"#fb9f3a\"], [0.8888888888888888, \"#fdca26\"], [1.0, \"#f0f921\"]], \"type\": \"histogram2d\"}], \"histogram2dcontour\": [{\"colorbar\": {\"outlinewidth\": 0, \"ticks\": \"\"}, \"colorscale\": [[0.0, \"#0d0887\"], [0.1111111111111111, \"#46039f\"], [0.2222222222222222, \"#7201a8\"], [0.3333333333333333, \"#9c179e\"], [0.4444444444444444, \"#bd3786\"], [0.5555555555555556, \"#d8576b\"], [0.6666666666666666, \"#ed7953\"], [0.7777777777777778, \"#fb9f3a\"], [0.8888888888888888, \"#fdca26\"], [1.0, \"#f0f921\"]], \"type\": \"histogram2dcontour\"}], \"mesh3d\": [{\"colorbar\": {\"outlinewidth\": 0, \"ticks\": \"\"}, \"type\": \"mesh3d\"}], \"parcoords\": [{\"line\": {\"colorbar\": {\"outlinewidth\": 0, \"ticks\": \"\"}}, \"type\": \"parcoords\"}], \"pie\": [{\"automargin\": true, \"type\": \"pie\"}], \"scatter\": [{\"marker\": {\"colorbar\": {\"outlinewidth\": 0, \"ticks\": \"\"}}, \"type\": \"scatter\"}], \"scatter3d\": [{\"line\": {\"colorbar\": {\"outlinewidth\": 0, \"ticks\": \"\"}}, \"marker\": {\"colorbar\": {\"outlinewidth\": 0, \"ticks\": \"\"}}, \"type\": \"scatter3d\"}], \"scattercarpet\": [{\"marker\": {\"colorbar\": {\"outlinewidth\": 0, \"ticks\": \"\"}}, \"type\": \"scattercarpet\"}], \"scattergeo\": [{\"marker\": {\"colorbar\": {\"outlinewidth\": 0, \"ticks\": \"\"}}, \"type\": \"scattergeo\"}], \"scattergl\": [{\"marker\": {\"colorbar\": {\"outlinewidth\": 0, \"ticks\": \"\"}}, \"type\": \"scattergl\"}], \"scattermapbox\": [{\"marker\": {\"colorbar\": {\"outlinewidth\": 0, \"ticks\": \"\"}}, \"type\": \"scattermapbox\"}], \"scatterpolar\": [{\"marker\": {\"colorbar\": {\"outlinewidth\": 0, \"ticks\": \"\"}}, \"type\": \"scatterpolar\"}], \"scatterpolargl\": [{\"marker\": {\"colorbar\": {\"outlinewidth\": 0, \"ticks\": \"\"}}, \"type\": \"scatterpolargl\"}], \"scatterternary\": [{\"marker\": {\"colorbar\": {\"outlinewidth\": 0, \"ticks\": \"\"}}, \"type\": \"scatterternary\"}], \"surface\": [{\"colorbar\": {\"outlinewidth\": 0, \"ticks\": \"\"}, \"colorscale\": [[0.0, \"#0d0887\"], [0.1111111111111111, \"#46039f\"], [0.2222222222222222, \"#7201a8\"], [0.3333333333333333, \"#9c179e\"], [0.4444444444444444, \"#bd3786\"], [0.5555555555555556, \"#d8576b\"], [0.6666666666666666, \"#ed7953\"], [0.7777777777777778, \"#fb9f3a\"], [0.8888888888888888, \"#fdca26\"], [1.0, \"#f0f921\"]], \"type\": \"surface\"}], \"table\": [{\"cells\": {\"fill\": {\"color\": \"#EBF0F8\"}, \"line\": {\"color\": \"white\"}}, \"header\": {\"fill\": {\"color\": \"#C8D4E3\"}, \"line\": {\"color\": \"white\"}}, \"type\": \"table\"}]}, \"layout\": {\"annotationdefaults\": {\"arrowcolor\": \"#2a3f5f\", \"arrowhead\": 0, \"arrowwidth\": 1}, \"coloraxis\": {\"colorbar\": {\"outlinewidth\": 0, \"ticks\": \"\"}}, \"colorscale\": {\"diverging\": [[0, \"#8e0152\"], [0.1, \"#c51b7d\"], [0.2, \"#de77ae\"], [0.3, \"#f1b6da\"], [0.4, \"#fde0ef\"], [0.5, \"#f7f7f7\"], [0.6, \"#e6f5d0\"], [0.7, \"#b8e186\"], [0.8, \"#7fbc41\"], [0.9, \"#4d9221\"], [1, \"#276419\"]], \"sequential\": [[0.0, \"#0d0887\"], [0.1111111111111111, \"#46039f\"], [0.2222222222222222, \"#7201a8\"], [0.3333333333333333, \"#9c179e\"], [0.4444444444444444, \"#bd3786\"], [0.5555555555555556, \"#d8576b\"], [0.6666666666666666, \"#ed7953\"], [0.7777777777777778, \"#fb9f3a\"], [0.8888888888888888, \"#fdca26\"], [1.0, \"#f0f921\"]], \"sequentialminus\": [[0.0, \"#0d0887\"], [0.1111111111111111, \"#46039f\"], [0.2222222222222222, \"#7201a8\"], [0.3333333333333333, \"#9c179e\"], [0.4444444444444444, \"#bd3786\"], [0.5555555555555556, \"#d8576b\"], [0.6666666666666666, \"#ed7953\"], [0.7777777777777778, \"#fb9f3a\"], [0.8888888888888888, \"#fdca26\"], [1.0, \"#f0f921\"]]}, \"colorway\": [\"#636efa\", \"#EF553B\", \"#00cc96\", \"#ab63fa\", \"#FFA15A\", \"#19d3f3\", \"#FF6692\", \"#B6E880\", \"#FF97FF\", \"#FECB52\"], \"font\": {\"color\": \"#2a3f5f\"}, \"geo\": {\"bgcolor\": \"white\", \"lakecolor\": \"white\", \"landcolor\": \"#E5ECF6\", \"showlakes\": true, \"showland\": true, \"subunitcolor\": \"white\"}, \"hoverlabel\": {\"align\": \"left\"}, \"hovermode\": \"closest\", \"mapbox\": {\"style\": \"light\"}, \"paper_bgcolor\": \"white\", \"plot_bgcolor\": \"#E5ECF6\", \"polar\": {\"angularaxis\": {\"gridcolor\": \"white\", \"linecolor\": \"white\", \"ticks\": \"\"}, \"bgcolor\": \"#E5ECF6\", \"radialaxis\": {\"gridcolor\": \"white\", \"linecolor\": \"white\", \"ticks\": \"\"}}, \"scene\": {\"xaxis\": {\"backgroundcolor\": \"#E5ECF6\", \"gridcolor\": \"white\", \"gridwidth\": 2, \"linecolor\": \"white\", \"showbackground\": true, \"ticks\": \"\", \"zerolinecolor\": \"white\"}, \"yaxis\": {\"backgroundcolor\": \"#E5ECF6\", \"gridcolor\": \"white\", \"gridwidth\": 2, \"linecolor\": \"white\", \"showbackground\": true, \"ticks\": \"\", \"zerolinecolor\": \"white\"}, \"zaxis\": {\"backgroundcolor\": \"#E5ECF6\", \"gridcolor\": \"white\", \"gridwidth\": 2, \"linecolor\": \"white\", \"showbackground\": true, \"ticks\": \"\", \"zerolinecolor\": \"white\"}}, \"shapedefaults\": {\"line\": {\"color\": \"#2a3f5f\"}}, \"ternary\": {\"aaxis\": {\"gridcolor\": \"white\", \"linecolor\": \"white\", \"ticks\": \"\"}, \"baxis\": {\"gridcolor\": \"white\", \"linecolor\": \"white\", \"ticks\": \"\"}, \"bgcolor\": \"#E5ECF6\", \"caxis\": {\"gridcolor\": \"white\", \"linecolor\": \"white\", \"ticks\": \"\"}}, \"title\": {\"x\": 0.05}, \"xaxis\": {\"automargin\": true, \"gridcolor\": \"white\", \"linecolor\": \"white\", \"ticks\": \"\", \"title\": {\"standoff\": 15}, \"zerolinecolor\": \"white\", \"zerolinewidth\": 2}, \"yaxis\": {\"automargin\": true, \"gridcolor\": \"white\", \"linecolor\": \"white\", \"ticks\": \"\", \"title\": {\"standoff\": 15}, \"zerolinecolor\": \"white\", \"zerolinewidth\": 2}}}, \"title\": {\"text\": \"Match Rate by Gender and Race\"}, \"xaxis\": {\"anchor\": \"y\", \"domain\": [0.0, 1.0], \"title\": {\"text\": \"Race\"}}, \"yaxis\": {\"anchor\": \"x\", \"domain\": [0.0, 1.0], \"title\": {\"text\": \"March Rate\"}}},\n",
              "                        {\"responsive\": true}\n",
              "                    ).then(function(){\n",
              "                            \n",
              "var gd = document.getElementById('b2ef2358-f282-455d-96dc-9497c5026315');\n",
              "var x = new MutationObserver(function (mutations, observer) {{\n",
              "        var display = window.getComputedStyle(gd).display;\n",
              "        if (!display || display === 'none') {{\n",
              "            console.log([gd, 'removed!']);\n",
              "            Plotly.purge(gd);\n",
              "            observer.disconnect();\n",
              "        }}\n",
              "}});\n",
              "\n",
              "// Listen for the removal of the full notebook cells\n",
              "var notebookContainer = gd.closest('#notebook-container');\n",
              "if (notebookContainer) {{\n",
              "    x.observe(notebookContainer, {childList: true});\n",
              "}}\n",
              "\n",
              "// Listen for the clearing of the current output cell\n",
              "var outputEl = gd.closest('.output');\n",
              "if (outputEl) {{\n",
              "    x.observe(outputEl, {childList: true});\n",
              "}}\n",
              "\n",
              "                        })\n",
              "                };\n",
              "                \n",
              "            </script>\n",
              "        </div>\n",
              "</body>\n",
              "</html>"
            ]
          },
          "metadata": {
            "tags": []
          }
        }
      ]
    },
    {
      "cell_type": "markdown",
      "metadata": {
        "id": "VdV7Z6j6nLFQ"
      },
      "source": [
        "### Match rate of Asian Men and white men in histogram"
      ]
    },
    {
      "cell_type": "code",
      "metadata": {
        "id": "2LaOB60OToB0",
        "colab": {
          "base_uri": "https://localhost:8080/",
          "height": 282
        },
        "outputId": "f0b7de94-8a85-485d-fef8-e6bced4b95eb"
      },
      "source": [
        "Dating_clean.query('race_Name==\"Asian/Pacific Islander/Asian American\" and gender_Name==\"male\"')[\"match\"].plot.hist(bins=10)\n",
        "print(\" .  Asian Males' match rate by counts\")"
      ],
      "execution_count": null,
      "outputs": [
        {
          "output_type": "stream",
          "text": [
            " .  Asian Males' match rate by counts\n"
          ],
          "name": "stdout"
        },
        {
          "output_type": "display_data",
          "data": {
            "image/png": "[encoded data removed]",
            "text/plain": [
              "<Figure size 432x288 with 1 Axes>"
            ]
          },
          "metadata": {
            "tags": [],
            "needs_background": "light"
          }
        }
      ]
    },
    {
      "cell_type": "code",
      "metadata": {
        "id": "2BGlwn47T0ez",
        "colab": {
          "base_uri": "https://localhost:8080/",
          "height": 282
        },
        "outputId": "4a6f4f1b-e286-453b-9c3b-9a04b8463fc5"
      },
      "source": [
        " Dating_clean.query('race_Name==\"European/Caucasian-American\" and gender_Name==\"male\"')[\"match\"].plot.hist(bins=10)\n",
        "print(\" .  White Males' match rate by counts\")"
      ],
      "execution_count": null,
      "outputs": [
        {
          "output_type": "stream",
          "text": [
            " .  White Males' match rate by counts\n"
          ],
          "name": "stdout"
        },
        {
          "output_type": "display_data",
          "data": {
            "image/png": "[encoded data removed]",
            "text/plain": [
              "<Figure size 432x288 with 1 Axes>"
            ]
          },
          "metadata": {
            "tags": [],
            "needs_background": "light"
          }
        }
      ]
    },
    {
      "cell_type": "markdown",
      "metadata": {
        "id": "LdIQNhlHnnFm"
      },
      "source": [
        "### Match rate of Asian men and white men in Density Plot"
      ]
    },
    {
      "cell_type": "code",
      "metadata": {
        "id": "OAKQ8XzGYuaF",
        "colab": {
          "base_uri": "https://localhost:8080/",
          "height": 312
        },
        "outputId": "e22ab6d5-f7d2-4505-8e63-29bca945e708"
      },
      "source": [
        "x=Dating_clean.query('race_Name==\"Asian/Pacific Islander/Asian American\" and gender_Name==\"male\"')[\"match\"]\n",
        "y=Dating_clean.query('race_Name==\"European/Caucasian-American\" and gender_Name==\"male\"')[\"match\"]\n",
        "plt.xlim(0, 1)\n",
        "sns.distplot(x,hist=False,label=\"Asian men\").set_ylabel('Density')\n",
        "sns.distplot(y,hist=False, label=\"white men\").set_title('Density Plot of match rate of Asian men and White men')"
      ],
      "execution_count": null,
      "outputs": [
        {
          "output_type": "execute_result",
          "data": {
            "text/plain": [
              "Text(0.5, 1.0, 'Density Plot of match rate of Asian men and White men')"
            ]
          },
          "metadata": {
            "tags": []
          },
          "execution_count": 59
        },
        {
          "output_type": "display_data",
          "data": {
            "image/png": "[encoded data removed]",
            "text/plain": [
              "<Figure size 432x288 with 1 Axes>"
            ]
          },
          "metadata": {
            "tags": [],
            "needs_background": "light"
          }
        }
      ]
    },
    {
      "cell_type": "markdown",
      "metadata": {
        "id": "rcTZTF_umiMT"
      },
      "source": [
        "###  Levene’s test--test of the difference"
      ]
    },
    {
      "cell_type": "markdown",
      "metadata": {
        "id": "TL7Jo_xFqPTP"
      },
      "source": [
        "I use the Levene's test to test the difference since both are non-normal distributions."
      ]
    },
    {
      "cell_type": "code",
      "metadata": {
        "id": "yRw6-DfJzvJl",
        "colab": {
          "base_uri": "https://localhost:8080/",
          "height": 142
        },
        "outputId": "7512e4cf-b59c-4ee7-8693-ebdb1f721053"
      },
      "source": [
        "descriptives, results = rp.ttest(Dating_clean.query('race_Name==\"Asian/Pacific Islander/Asian American\" and gender_Name==\"male\"')[\"match\"], \n",
        "                                 Dating_clean.query('race_Name==\"European/Caucasian-American\" and gender_Name==\"male\"')[\"match\"])\n",
        "\n",
        "descriptives"
      ],
      "execution_count": null,
      "outputs": [
        {
          "output_type": "execute_result",
          "data": {
            "text/html": [
              "<div>\n",
              "<style scoped>\n",
              "    .dataframe tbody tr th:only-of-type {\n",
              "        vertical-align: middle;\n",
              "    }\n",
              "\n",
              "    .dataframe tbody tr th {\n",
              "        vertical-align: top;\n",
              "    }\n",
              "\n",
              "    .dataframe thead th {\n",
              "        text-align: right;\n",
              "    }\n",
              "</style>\n",
              "<table border=\"1\" class=\"dataframe\">\n",
              "  <thead>\n",
              "    <tr style=\"text-align: right;\">\n",
              "      <th></th>\n",
              "      <th>Variable</th>\n",
              "      <th>N</th>\n",
              "      <th>Mean</th>\n",
              "      <th>SD</th>\n",
              "      <th>SE</th>\n",
              "      <th>95% Conf.</th>\n",
              "      <th>Interval</th>\n",
              "    </tr>\n",
              "  </thead>\n",
              "  <tbody>\n",
              "    <tr>\n",
              "      <th>0</th>\n",
              "      <td>match</td>\n",
              "      <td>46.000</td>\n",
              "      <td>0.127</td>\n",
              "      <td>0.125</td>\n",
              "      <td>0.018</td>\n",
              "      <td>0.090</td>\n",
              "      <td>0.164</td>\n",
              "    </tr>\n",
              "    <tr>\n",
              "      <th>1</th>\n",
              "      <td>match</td>\n",
              "      <td>138.000</td>\n",
              "      <td>0.189</td>\n",
              "      <td>0.168</td>\n",
              "      <td>0.014</td>\n",
              "      <td>0.161</td>\n",
              "      <td>0.217</td>\n",
              "    </tr>\n",
              "    <tr>\n",
              "      <th>2</th>\n",
              "      <td>combined</td>\n",
              "      <td>184.000</td>\n",
              "      <td>0.173</td>\n",
              "      <td>0.160</td>\n",
              "      <td>0.012</td>\n",
              "      <td>0.150</td>\n",
              "      <td>0.197</td>\n",
              "    </tr>\n",
              "  </tbody>\n",
              "</table>\n",
              "</div>"
            ],
            "text/plain": [
              "   Variable       N  Mean    SD    SE  95% Conf.  Interval\n",
              "0     match  46.000 0.127 0.125 0.018      0.090     0.164\n",
              "1     match 138.000 0.189 0.168 0.014      0.161     0.217\n",
              "2  combined 184.000 0.173 0.160 0.012      0.150     0.197"
            ]
          },
          "metadata": {
            "tags": []
          },
          "execution_count": 49
        }
      ]
    },
    {
      "cell_type": "code",
      "metadata": {
        "id": "6y5w5fLS4WB3",
        "colab": {
          "base_uri": "https://localhost:8080/",
          "height": 359
        },
        "outputId": "be88b045-74ea-4eba-d834-4a8b861de6b4"
      },
      "source": [
        "results"
      ],
      "execution_count": null,
      "outputs": [
        {
          "output_type": "execute_result",
          "data": {
            "text/html": [
              "<div>\n",
              "<style scoped>\n",
              "    .dataframe tbody tr th:only-of-type {\n",
              "        vertical-align: middle;\n",
              "    }\n",
              "\n",
              "    .dataframe tbody tr th {\n",
              "        vertical-align: top;\n",
              "    }\n",
              "\n",
              "    .dataframe thead th {\n",
              "        text-align: right;\n",
              "    }\n",
              "</style>\n",
              "<table border=\"1\" class=\"dataframe\">\n",
              "  <thead>\n",
              "    <tr style=\"text-align: right;\">\n",
              "      <th></th>\n",
              "      <th>Independent t-test</th>\n",
              "      <th>results</th>\n",
              "    </tr>\n",
              "  </thead>\n",
              "  <tbody>\n",
              "    <tr>\n",
              "      <th>0</th>\n",
              "      <td>Difference (match - match) =</td>\n",
              "      <td>-0.062</td>\n",
              "    </tr>\n",
              "    <tr>\n",
              "      <th>1</th>\n",
              "      <td>Degrees of freedom =</td>\n",
              "      <td>182.000</td>\n",
              "    </tr>\n",
              "    <tr>\n",
              "      <th>2</th>\n",
              "      <td>t =</td>\n",
              "      <td>-2.305</td>\n",
              "    </tr>\n",
              "    <tr>\n",
              "      <th>3</th>\n",
              "      <td>Two side test p value =</td>\n",
              "      <td>0.022</td>\n",
              "    </tr>\n",
              "    <tr>\n",
              "      <th>4</th>\n",
              "      <td>Difference &lt; 0 p value =</td>\n",
              "      <td>0.011</td>\n",
              "    </tr>\n",
              "    <tr>\n",
              "      <th>5</th>\n",
              "      <td>Difference &gt; 0 p value =</td>\n",
              "      <td>0.989</td>\n",
              "    </tr>\n",
              "    <tr>\n",
              "      <th>6</th>\n",
              "      <td>Cohen's d =</td>\n",
              "      <td>-0.393</td>\n",
              "    </tr>\n",
              "    <tr>\n",
              "      <th>7</th>\n",
              "      <td>Hedge's g =</td>\n",
              "      <td>-0.391</td>\n",
              "    </tr>\n",
              "    <tr>\n",
              "      <th>8</th>\n",
              "      <td>Glass's delta =</td>\n",
              "      <td>-0.497</td>\n",
              "    </tr>\n",
              "    <tr>\n",
              "      <th>9</th>\n",
              "      <td>r =</td>\n",
              "      <td>0.168</td>\n",
              "    </tr>\n",
              "  </tbody>\n",
              "</table>\n",
              "</div>"
            ],
            "text/plain": [
              "              Independent t-test  results\n",
              "0  Difference (match - match) =    -0.062\n",
              "1          Degrees of freedom =   182.000\n",
              "2                           t =    -2.305\n",
              "3       Two side test p value =     0.022\n",
              "4      Difference < 0 p value =     0.011\n",
              "5      Difference > 0 p value =     0.989\n",
              "6                   Cohen's d =    -0.393\n",
              "7                   Hedge's g =    -0.391\n",
              "8               Glass's delta =    -0.497\n",
              "9                           r =     0.168"
            ]
          },
          "metadata": {
            "tags": []
          },
          "execution_count": 50
        }
      ]
    },
    {
      "cell_type": "code",
      "metadata": {
        "id": "F1Y-qxGGDA3U",
        "colab": {
          "base_uri": "https://localhost:8080/",
          "height": 34
        },
        "outputId": "cf16298a-e754-47fe-b8ed-4e85f18d2e81"
      },
      "source": [
        "stats.levene(Dating_clean.query('race_Name==\"Asian/Pacific Islander/Asian American\" and gender_Name==\"male\"')[\"match\"], \n",
        "                                 Dating_clean.query('race_Name==\"European/Caucasian-American\" and gender_Name==\"male\"')[\"match\"])"
      ],
      "execution_count": null,
      "outputs": [
        {
          "output_type": "execute_result",
          "data": {
            "text/plain": [
              "LeveneResult(statistic=1.3758951948820026, pvalue=0.24233448843117253)"
            ]
          },
          "metadata": {
            "tags": []
          },
          "execution_count": 51
        }
      ]
    },
    {
      "cell_type": "markdown",
      "metadata": {
        "id": "x7h-0GE_FEbB"
      },
      "source": [
        "As p > 0.05 the data sets conform to the variance criterion"
      ]
    },
    {
      "cell_type": "code",
      "metadata": {
        "id": "N0q9eZ9bFGcJ",
        "colab": {
          "base_uri": "https://localhost:8080/",
          "height": 34
        },
        "outputId": "f77fde7f-c2f5-4aea-c666-20b32b308365"
      },
      "source": [
        "t, p = stats.ttest_ind(Dating_clean.query('race_Name==\"Asian/Pacific Islander/Asian American\" and gender_Name==\"male\"')[\"match\"], \n",
        "                                 Dating_clean.query('race_Name==\"European/Caucasian-American\" and gender_Name==\"male\"')[\"match\"])\n",
        "t, p"
      ],
      "execution_count": null,
      "outputs": [
        {
          "output_type": "execute_result",
          "data": {
            "text/plain": [
              "(-2.305180149239645, 0.02228463534054921)"
            ]
          },
          "metadata": {
            "tags": []
          },
          "execution_count": 52
        }
      ]
    },
    {
      "cell_type": "markdown",
      "metadata": {
        "id": "2PkjICLAFegU"
      },
      "source": [
        "Match rates were higher for white men (M = .189 SD = .168) than for Asian men (M = .127, SD = .123), t(340) = 2.3, p < .05. Levene’s test indicated unequal variances (F = 1.38, p = .24)."
      ]
    },
    {
      "cell_type": "markdown",
      "metadata": {
        "id": "CACgEiaHbYA_"
      },
      "source": [
        "### Conclusion \n",
        "1. There are significant match rate difference between Asian men and white men, while Asian men has lowest match rate. \n",
        "\n",
        "2. Asian men do not have match rate above 0.5. Compared to white men, no Asian men are not perceived super charming in this speed dating experiment. There seem to be “glass ceiling” for Asian men to find many matches. \n",
        "\n",
        "3. This specific hyphothesis is tested and can support the sociology explanation of conflicted identities."
      ]
    },
    {
      "cell_type": "markdown",
      "metadata": {
        "id": "gq5sJoJkbGo8"
      },
      "source": [
        "## Presentation Flow\n",
        "7 minutes in total:\n",
        "\n",
        "2 min: intro (1 min why it matters; 1 min what is this analysis about)\n",
        "\n",
        "2 min: variable & methods\n",
        "\n",
        "2 min: visualization\n",
        "\n",
        "1 min: conclusion and further findings"
      ]
    }
  ]
}